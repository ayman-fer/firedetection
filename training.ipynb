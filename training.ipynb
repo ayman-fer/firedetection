{
 "cells": [
  {
   "cell_type": "markdown",
   "metadata": {},
   "source": [
    "\n",
    "<br>\n",
    "#################################<br>\n",
    " Training phase after demonstration: This module uses Keras and Tensor flow to train the image classification problem<br>\n",
    " for the labeling fire and non-fire data based on the aerial images.<br>\n",
    " Training and Validation Data: Item 7 on https://ieee-dataport.org/open-access/flame-dataset-aerial-imagery-pile-burn-detection-using-drones-uavs<br>\n",
    " Keras version: 2.4.0<br>\n",
    " Tensorflow Version: 2.3.0<br>\n",
    " GPU: Nvidia RTX 2080 Ti<br>\n",
    " OS: Ubuntu 18.04<br>\n",
    "#################################<br>\n"
   ]
  },
  {
   "cell_type": "markdown",
   "metadata": {},
   "source": [
    "#######################################################<br>\n",
    "import libraries"
   ]
  },
  {
   "cell_type": "code",
   "execution_count": 15,
   "metadata": {},
   "outputs": [],
   "source": [
    "import os.path\n",
    "import tensorflow as tf\n",
    "from tensorflow import keras\n",
    "import matplotlib.pyplot as plt\n",
    "from tensorflow.keras import layers"
   ]
  },
  {
   "cell_type": "code",
   "execution_count": 16,
   "metadata": {},
   "outputs": [],
   "source": [
    "from config import new_size\n",
    "from plotdata import plot_training\n",
    "from config import Config_classification"
   ]
  },
  {
   "cell_type": "markdown",
   "metadata": {},
   "source": [
    "#######################################################<br>\n",
    "Global parameters and definition"
   ]
  },
  {
   "cell_type": "code",
   "execution_count": 17,
   "metadata": {},
   "outputs": [],
   "source": [
    "data_augmentation = keras.Sequential(\n",
    "        [\n",
    "            layers.experimental.preprocessing.RandomFlip(\"horizontal\"),\n",
    "            layers.experimental.preprocessing.RandomRotation(0.1),\n",
    "        ]\n",
    "    )"
   ]
  },
  {
   "cell_type": "code",
   "execution_count": 18,
   "metadata": {},
   "outputs": [],
   "source": [
    "image_size = (new_size.get('width'), new_size.get('height'))\n",
    "batch_size = Config_classification.get('batch_size')\n",
    "save_model_flag = Config_classification.get('Save_Model')\n",
    "epochs = Config_classification.get('Epochs')"
   ]
  },
  {
   "cell_type": "code",
   "execution_count": 19,
   "metadata": {},
   "outputs": [],
   "source": [
    "METRICS = [\n",
    "    keras.metrics.TruePositives(name='tp'),\n",
    "    keras.metrics.FalsePositives(name='fp'),\n",
    "    keras.metrics.TrueNegatives(name='tn'),\n",
    "    keras.metrics.FalseNegatives(name='fn'),\n",
    "    keras.metrics.Accuracy(name='accuracy'),\n",
    "    keras.metrics.BinaryAccuracy(name='bin_accuracy'),\n",
    "    keras.metrics.Precision(name='precision'),\n",
    "    keras.metrics.Recall(name='recall'),\n",
    "    keras.metrics.AUC(name='auc')\n",
    "]"
   ]
  },
  {
   "cell_type": "markdown",
   "metadata": {},
   "source": [
    "#######################################################<br>\n",
    "Function definition"
   ]
  },
  {
   "cell_type": "code",
   "execution_count": 20,
   "metadata": {},
   "outputs": [],
   "source": [
    "def train_keras():\n",
    "    \"\"\"\n",
    "    This function train a DNN model based on Keras and Tensorflow as a backend. At first, the directory of Fire and\n",
    "    Non_Fire images should be defined for the model, then the model is defined, compiled and fitted over the training\n",
    "    and validation set. At the end, the models is saved based on the *.h5 parameters and weights. Training accuracy and\n",
    "    loss are demonstrated at the end of this function.\n",
    "    :return: None, Save the trained model and plot accuracy and loss on train and validation dataset.\n",
    "    \"\"\"\n",
    "    # This model is implemented based on the guide in Keras (Xception network)\n",
    "    # https://keras.io/examples/vision/image_classification_from_scratch/\n",
    "    print(\" --------- Training --------- \")\n",
    "    dir_fire = 'frames/Training/Fire/'\n",
    "    dir_no_fire = 'frames/Training/No_Fire/'\n",
    "\n",
    "    # 0 is Fire and 1 is NO_Fire\n",
    "    fire = len([name for name in os.listdir(dir_fire) if os.path.isfile(os.path.join(dir_fire, name))])\n",
    "    no_fire = len([name for name in os.listdir(dir_no_fire) if os.path.isfile(os.path.join(dir_no_fire, name))])\n",
    "    total = fire + no_fire\n",
    "    weight_for_fire = (1 / fire) * total / 2.0\n",
    "    weight_for_no_fire = (1 / no_fire) * total / 2.0\n",
    "    # class_weight = {0: weight_for_fire, 1: weight_for_no_fire}\n",
    "    print(\"Weight for class fire : {:.2f}\".format(weight_for_fire))\n",
    "    print(\"Weight for class No_fire : {:.2f}\".format(weight_for_no_fire))\n",
    "    train_ds = tf.keras.preprocessing.image_dataset_from_directory(\n",
    "        \"frames/Training\", validation_split=0.2, subset=\"training\", seed=1337, image_size=image_size,\n",
    "        batch_size=batch_size, shuffle=True\n",
    "    )\n",
    "    val_ds = tf.keras.preprocessing.image_dataset_from_directory(\n",
    "        \"frames/Training\", validation_split=0.2, subset=\"validation\", seed=1337, image_size=image_size,\n",
    "        batch_size=batch_size, shuffle=True\n",
    "    )\n",
    "    plt.figure(figsize=(10, 10))\n",
    "    for images, labels in train_ds.take(1):\n",
    "        for i in range(9):\n",
    "            _ = plt.subplot(3, 3, i+1)\n",
    "            plt.imshow(images[i].numpy().astype(\"uint8\"))\n",
    "            plt.title(int(labels[i]))\n",
    "            plt.axis(\"off\")\n",
    "    plt.figure(figsize=(10, 10))\n",
    "    for images, _ in train_ds.take(1):\n",
    "        for i in range(9):\n",
    "            augmented_images = data_augmentation(images)\n",
    "            _ = plt.subplot(3, 3, i+1)\n",
    "            plt.imshow(augmented_images[0].numpy().astype(\"uint8\"))\n",
    "            plt.axis(\"off\")\n",
    "    train_ds = train_ds.prefetch(buffer_size=32)\n",
    "    val_ds = val_ds.prefetch(buffer_size=32)\n",
    "    model = make_model_keras(input_shape=image_size + (3,), num_classes=2)\n",
    "    keras.utils.plot_model(model, show_shapes=True)\n",
    "    callbacks = [keras.callbacks.ModelCheckpoint(\"save_at_{epoch}.h5\"), ]\n",
    "    model.compile(optimizer=keras.optimizers.Adam(1e-3), loss=\"binary_crossentropy\", metrics=[\"accuracy\"], )\n",
    "    res_fire = model.fit(train_ds, epochs=epochs, callbacks=callbacks, validation_data=val_ds, batch_size=batch_size)\n",
    "    layers_len = len(model.layers)\n",
    "    if save_model_flag:\n",
    "        file_model_fire = 'Output/Models/model_fire_resnet_weighted_40_no_metric_simple'\n",
    "        model.save(file_model_fire)\n",
    "    if Config_classification.get('TrainingPlot'):\n",
    "        plot_training(res_fire, 'KerasModel', layers_len)\n",
    "\n",
    "    # Prediction on one sample frame from the test set\n",
    "    img = keras.preprocessing.image.load_img(\n",
    "        \"frames/Training/Fire/resized_frame1801.jpg\", target_size=image_size)\n",
    "    img_array = keras.preprocessing.image.img_to_array(img)\n",
    "    img_array = tf.expand_dims(img_array, 0)\n",
    "    predictions = model.predict(img_array)\n",
    "    score = predictions[0]\n",
    "    print(\"This image is %.2f percent Fire and %.2f percent No Fire.\" % (100 * (1 - score), 100 * score))"
   ]
  },
  {
   "cell_type": "code",
   "execution_count": 21,
   "metadata": {},
   "outputs": [],
   "source": [
    "def make_model_keras(input_shape, num_classes):\n",
    "    \"\"\"\n",
    "    This function define the DNN Model based on the Keras example.\n",
    "    :param input_shape: The requested size of the image\n",
    "    :param num_classes: In this classification problem, there are two classes: 1) Fire and 2) Non_Fire.\n",
    "    :return: The built model is returned\n",
    "    \"\"\"\n",
    "    inputs = keras.Input(shape=input_shape)\n",
    "    # x = data_augmentation(inputs)  # 1) First option\n",
    "    x = inputs  # 2) Second option\n",
    "    x = layers.experimental.preprocessing.Rescaling(1.0 / 255)(x)\n",
    "    # x = layers.Conv2D(32, 3, strides=2, padding=\"same\")(x)\n",
    "    x = layers.Conv2D(8, 3, strides=2, padding=\"same\")(x)\n",
    "    x = layers.BatchNormalization()(x)\n",
    "    x = layers.Activation(\"relu\")(x)\n",
    "    previous_block_activation = x\n",
    "\n",
    "    # for size in [128, 256, 512, 728]:\n",
    "    for size in [8]:\n",
    "        x = layers.Activation(\"relu\")(x)\n",
    "        x = layers.SeparableConv2D(size, 3, padding=\"same\")(x)\n",
    "        x = layers.BatchNormalization()(x)\n",
    "        x = layers.Activation(\"relu\")(x)\n",
    "        x = layers.SeparableConv2D(size, 3, padding=\"same\")(x)\n",
    "        x = layers.BatchNormalization()(x)\n",
    "        x = layers.MaxPooling2D(3, strides=2, padding=\"same\")(x)\n",
    "        residual = layers.Conv2D(size, 1, strides=2, padding=\"same\")(previous_block_activation)\n",
    "        x = layers.add([x, residual])\n",
    "        previous_block_activation = x\n",
    "    x = layers.SeparableConv2D(8, 3, padding=\"same\")(x)\n",
    "    x = layers.BatchNormalization()(x)\n",
    "    x = layers.Activation(\"relu\")(x)\n",
    "    x = layers.GlobalAveragePooling2D()(x)\n",
    "    if num_classes == 2:\n",
    "        activation = \"sigmoid\"\n",
    "        units = 1\n",
    "    else:\n",
    "        activation = \"softmax\"\n",
    "        units = num_classes\n",
    "    x = layers.Dropout(0.5)(x)\n",
    "    outputs = layers.Dense(units, activation=activation)(x)\n",
    "    return keras.Model(inputs, outputs, name=\"model_fire\")"
   ]
  },
  {
   "cell_type": "code",
   "execution_count": null,
   "metadata": {},
   "outputs": [],
   "source": []
  },
  {
   "cell_type": "code",
   "execution_count": null,
   "metadata": {},
   "outputs": [],
   "source": []
  }
 ],
 "metadata": {
  "kernelspec": {
   "display_name": "Python 3 (ipykernel)",
   "language": "python",
   "name": "python3"
  },
  "language_info": {
   "codemirror_mode": {
    "name": "ipython",
    "version": 3
   },
   "file_extension": ".py",
   "mimetype": "text/x-python",
   "name": "python",
   "nbconvert_exporter": "python",
   "pygments_lexer": "ipython3",
   "version": "3.8.12"
  }
 },
 "nbformat": 4,
 "nbformat_minor": 2
}
