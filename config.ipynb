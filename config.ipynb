{
 "cells": [
  {
   "cell_type": "markdown",
   "metadata": {},
   "source": [
    "\n",
    "<br>\n",
    "#################################<br>\n",
    "# Configuration File<br>\n",
    "#################################<br>\n"
   ]
  },
  {
   "cell_type": "code",
   "execution_count": 15,
   "metadata": {},
   "outputs": [],
   "source": [
    "pathVid_fire = 'video/2020_01_16_10_27_15.mp4'\n",
    "pathVid_LakeMary = 'video/Matrice 200_phone_lakemary_X4S/Final.mp4'\n",
    "pathVid_test_Fire = 'video/Testdata/fire.mp4'\n",
    "pathVid_test_NoFire = 'video/Testdata/No_fire.mp4'"
   ]
  },
  {
   "cell_type": "code",
   "execution_count": 16,
   "metadata": {},
   "outputs": [],
   "source": [
    "pathFrame_all = 'frames/all'\n",
    "pathFrame_resize = 'frames/resize'"
   ]
  },
  {
   "cell_type": "code",
   "execution_count": 17,
   "metadata": {},
   "outputs": [],
   "source": [
    "pathFrame_lakemary = 'frames/lakemary'\n",
    "pathFrame_resize_lakemary = 'frames/resize_lakemary'"
   ]
  },
  {
   "cell_type": "code",
   "execution_count": 18,
   "metadata": {},
   "outputs": [],
   "source": [
    "pathFrame_test = 'frames/Test_frame/'\n",
    "pathFrame_resize_test = 'frames/Test/'"
   ]
  },
  {
   "cell_type": "code",
   "execution_count": 19,
   "metadata": {},
   "outputs": [],
   "source": [
    "Flags = {'playVideoFlag': True, 'SaveRawFrameFlag': False, 'ResizeFlag': False, 'plot_center': True,\n",
    "         'Debug_print': False}\n",
    "new_size = {'width': 256, 'height': 256}\n",
    "segmentation_new_size = {'width': 512, 'height': 512}\n",
    "Config_classification = {\"batch_size\": 32, 'Save_Model': True, 'Epochs': 10, \"TrainingPlot\": True}\n",
    "config_segmentation = {\"batch_size\": 16, 'Save_Model': False, 'Epochs': 30, \"TrainingPlot\": False,\n",
    "                       \"train_set_ratio\": 0.85, \"val_set_ratio\": 0.15, \"num_class\": 2, \"CHANNELS\": 3}\n",
    "Mode = 'Training'\n",
    "# Different Modes {\"Fire\", \"Lake_Mary\", \"Test_Frame\", \"Training\", \"Classification\", \"Rename\", \"Segmentation\",\n",
    "#                   \"Scheduling\"}"
   ]
  },
  {
   "cell_type": "code",
   "execution_count": 20,
   "metadata": {},
   "outputs": [],
   "source": [
    "config_uav = {\"Num_uav\": 2, \"Init_flight_time\": 40, 'Observation_time': 2, 'Observation_interval': 20,\n",
    "              \"Charge_time\": 35, \"Speed\": 150, \"Num_pile_fire\": 5, \"Event\": 100, \"uav_limit\": 10}"
   ]
  },
  {
   "cell_type": "code",
   "execution_count": null,
   "metadata": {},
   "outputs": [],
   "source": []
  }
 ],
 "metadata": {
  "kernelspec": {
   "display_name": "Python 3 (ipykernel)",
   "language": "python",
   "name": "python3"
  },
  "language_info": {
   "codemirror_mode": {
    "name": "ipython",
    "version": 3
   },
   "file_extension": ".py",
   "mimetype": "text/x-python",
   "name": "python",
   "nbconvert_exporter": "python",
   "pygments_lexer": "ipython3",
   "version": "3.8.12"
  }
 },
 "nbformat": 4,
 "nbformat_minor": 2
}
