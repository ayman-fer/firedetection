{
 "cells": [
  {
   "cell_type": "markdown",
   "metadata": {},
   "source": [
    "\n",
    "<br>\n",
    "#################################<br>\n",
    " Classification after training the Model, modules and methods in this file evaluate the performance of the trained<br>\n",
    " model over the test dataset<br>\n",
    " Test Data: Item (8) on https://ieee-dataport.org/open-access/flame-dataset-aerial-imagery-pile-burn-detection-using-drones-uavs <br>\n",
    " Tensorflow Version: 2.3.0<br>\n",
    " GPU: Nvidia RTX 2080 Ti<br>\n",
    " OS: Ubuntu 18.04<br>\n",
    "################################<br>\n",
    "<br>\n",
    "#######################################################<br>\n",
    "import libraries"
   ]
  },
  {
   "cell_type": "code",
   "execution_count": null,
   "metadata": {},
   "outputs": [],
   "source": [
    "import numpy as np\n",
    "import tensorflow as tf\n",
    "from tensorflow.keras.models import load_model"
   ]
  },
  {
   "cell_type": "code",
   "execution_count": null,
   "metadata": {},
   "outputs": [],
   "source": [
    "from plotdata import plot_confusion_matrix\n",
    "from config import Config_classification\n",
    "from config import new_size"
   ]
  },
  {
   "cell_type": "code",
   "execution_count": null,
   "metadata": {},
   "outputs": [],
   "source": [
    "batch_size = Config_classification.get('batch_size')\n",
    "image_size = (new_size.get('width'), new_size.get('height'))\n",
    "epochs = Config_classification.get('Epochs')"
   ]
  },
  {
   "cell_type": "markdown",
   "metadata": {},
   "source": [
    "#######################################################<br>\n",
    "Function definition"
   ]
  },
  {
   "cell_type": "code",
   "execution_count": null,
   "metadata": {},
   "outputs": [],
   "source": [
    "def classify():\n",
    "    \"\"\"\n",
    "    This function load the trained model from the previous task and evaluates the performance of that over the test\n",
    "    data set.\n",
    "    :return: None, Plot the Confusion matrix for the test data on the binary classification\n",
    "    \"\"\"\n",
    "    test_ds = tf.keras.preprocessing.image_dataset_from_directory(\n",
    "        \"frames/Test\", seed=1337, image_size=image_size, batch_size=batch_size, shuffle=True\n",
    "    )\n",
    "    model_fire = load_model('Output/Models/model_fire_resnet_not_weighted_40_no_metric_simple')\n",
    "    _ = model_fire.evaluate(test_ds, batch_size=batch_size)\n",
    "    best_model_fire = load_model('Output/Models/h5model/keras/save_at_25.h5')\n",
    "    results_eval = best_model_fire.evaluate(test_ds, batch_size=batch_size)\n",
    "    for name, value in zip(model_fire.metrics_names, results_eval):\n",
    "        print(name, ': ', value)\n",
    "    print()\n",
    "    cm = np.array([[results_eval[1], results_eval[4]], [results_eval[2], results_eval[3]]])\n",
    "    cm_plot_labels = ['Fire', 'No Fire']\n",
    "    plot_confusion_matrix(cm=cm, classes=cm_plot_labels, title='Confusion Matrix')\n",
    "    model_file = 'Output/Models/h5model/Keras_not_weighted_40_no_metric_simple/save_at_%d.h5' % 37\n",
    "    model_fire = load_model(model_file)\n",
    "    test_fire_ds = tf.keras.preprocessing.image_dataset_from_directory(\n",
    "        \"frames/confusion_test/Fire_test\", seed=1337, image_size=image_size, batch_size=batch_size, shuffle=True)\n",
    "    test_no_fire_ds = tf.keras.preprocessing.image_dataset_from_directory(\n",
    "        \"frames/confusion_test/No_Fire_test\", seed=1337, image_size=image_size, batch_size=batch_size, shuffle=True)\n",
    "    fire_eval = model_fire.evaluate(test_fire_ds)\n",
    "    no_fire_eval = model_fire.evaluate(test_no_fire_ds)\n",
    "    true_fire = len(tf.io.gfile.listdir(\"frames/confusion_test/Fire_test/Fire\"))\n",
    "    true_no_fire = len(tf.io.gfile.listdir(\"frames/confusion_test/No_Fire_test/No_Fire\"))\n",
    "    tp = fire_eval[1] * true_fire\n",
    "    fp = (1 - fire_eval[1]) * true_fire\n",
    "    tn = (1 - no_fire_eval[1]) * true_no_fire\n",
    "    fn = no_fire_eval[1] * true_no_fire\n",
    "    cm = np.array([[tp, fn], [fp, tn]], dtype=int)\n",
    "    plot_confusion_matrix(cm=cm, classes=cm_plot_labels, title='Confusion Matrix')"
   ]
  }
 ],
 "metadata": {
  "kernelspec": {
   "display_name": "Python 3 (ipykernel)",
   "language": "python",
   "name": "python3"
  },
  "language_info": {
   "codemirror_mode": {
    "name": "ipython",
    "version": 3
   },
   "file_extension": ".py",
   "mimetype": "text/x-python",
   "name": "python",
   "nbconvert_exporter": "python",
   "pygments_lexer": "ipython3",
   "version": "3.8.12"
  }
 },
 "nbformat": 4,
 "nbformat_minor": 2
}
